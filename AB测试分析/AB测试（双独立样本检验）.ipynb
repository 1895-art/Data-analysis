{
 "cells": [
  {
   "cell_type": "markdown",
   "metadata": {},
   "source": [
    " # 实验设计"
   ]
  },
  {
   "cell_type": "markdown",
   "metadata": {},
   "source": [
    "这是两款键盘布局不一样的手机(A版本，B版本)，你作为公司的产品经理，想在正式发布产品之前知道，哪个键盘布局对用户体验更好呢？\n",
    "\n",
    "首先，我们需要设置目标，用来衡量各个版本的优劣，如果是电商网站，目标可以是`点击率`，`注册率`，`页面停留时间`等。\n",
    "\n",
    "在这个键盘布局案例里，如果一个键盘布局对用户打字时拼错产生的影响较小，那么这个布局是符合用户体验习惯的。\n",
    "\n",
    "所以我们将目标定为`不同布局的打错字数`。\n",
    "\n",
    "有了目标以后，下一步就是采集数据。\n",
    "\n",
    "我们随机抽取实验者，将实验者分成2组，每组25人，A组使用键盘布局A，B组使用键盘布局B。让他们在30秒内打出标准的20个单词文字消息，然后记录打错字的数量。\n",
    "\n",
    "我们将数据记录在Excel中，A列是使用键盘A打错字的数量，B列是使用键盘B打错字的数量。\n",
    "\n",
    "现在我们开始A/B测试"
   ]
  },
  {
   "cell_type": "markdown",
   "metadata": {},
   "source": [
    "# 一、描述统计分析"
   ]
  },
  {
   "cell_type": "markdown",
   "metadata": {},
   "source": [
    "进行统计分析时，第一步必须先计算出描述统计分析的特征，以便后期进一步分析结果。"
   ]
  },
  {
   "cell_type": "code",
   "execution_count": 2,
   "metadata": {
    "collapsed": true
   },
   "outputs": [],
   "source": [
    "#导入包\n",
    "import numpy as np \n",
    "import pandas as pd\n",
    "import matplotlib.pyplot as plt"
   ]
  },
  {
   "cell_type": "code",
   "execution_count": 19,
   "metadata": {},
   "outputs": [
    {
     "data": {
      "text/html": [
       "<div>\n",
       "<style scoped>\n",
       "    .dataframe tbody tr th:only-of-type {\n",
       "        vertical-align: middle;\n",
       "    }\n",
       "\n",
       "    .dataframe tbody tr th {\n",
       "        vertical-align: top;\n",
       "    }\n",
       "\n",
       "    .dataframe thead th {\n",
       "        text-align: right;\n",
       "    }\n",
       "</style>\n",
       "<table border=\"1\" class=\"dataframe\">\n",
       "  <thead>\n",
       "    <tr style=\"text-align: right;\">\n",
       "      <th></th>\n",
       "      <th>A</th>\n",
       "      <th>B</th>\n",
       "    </tr>\n",
       "  </thead>\n",
       "  <tbody>\n",
       "    <tr>\n",
       "      <th>0</th>\n",
       "      <td>6</td>\n",
       "      <td>6</td>\n",
       "    </tr>\n",
       "    <tr>\n",
       "      <th>1</th>\n",
       "      <td>6</td>\n",
       "      <td>11</td>\n",
       "    </tr>\n",
       "    <tr>\n",
       "      <th>2</th>\n",
       "      <td>2</td>\n",
       "      <td>8</td>\n",
       "    </tr>\n",
       "    <tr>\n",
       "      <th>3</th>\n",
       "      <td>7</td>\n",
       "      <td>5</td>\n",
       "    </tr>\n",
       "    <tr>\n",
       "      <th>4</th>\n",
       "      <td>8</td>\n",
       "      <td>11</td>\n",
       "    </tr>\n",
       "  </tbody>\n",
       "</table>\n",
       "</div>"
      ],
      "text/plain": [
       "   A   B\n",
       "0  6   6\n",
       "1  6  11\n",
       "2  2   8\n",
       "3  7   5\n",
       "4  8  11"
      ]
     },
     "execution_count": 19,
     "metadata": {},
     "output_type": "execute_result"
    }
   ],
   "source": [
    "'''\n",
    "路径和文件名中不要用中文，不然会报错\n",
    "encoding用于指定文件的编码，因为读取的csv中有中文，所以指定文件编码为中文编码“GBK”\n",
    "'''\n",
    "xls = pd.ExcelFile(r'E:\\Jupyter\\键盘AB测试.xlsx')\n",
    "data=xls.parse('Sheet1',dtype='int') #这里转换的数据类型应该写成int，而不是object，否则数据进行描述的时候不会统计均值和方差\n",
    "data.head()"
   ]
  },
  {
   "cell_type": "code",
   "execution_count": 21,
   "metadata": {
    "scrolled": true
   },
   "outputs": [
    {
     "data": {
      "text/html": [
       "<div>\n",
       "<style scoped>\n",
       "    .dataframe tbody tr th:only-of-type {\n",
       "        vertical-align: middle;\n",
       "    }\n",
       "\n",
       "    .dataframe tbody tr th {\n",
       "        vertical-align: top;\n",
       "    }\n",
       "\n",
       "    .dataframe thead th {\n",
       "        text-align: right;\n",
       "    }\n",
       "</style>\n",
       "<table border=\"1\" class=\"dataframe\">\n",
       "  <thead>\n",
       "    <tr style=\"text-align: right;\">\n",
       "      <th></th>\n",
       "      <th>A</th>\n",
       "      <th>B</th>\n",
       "    </tr>\n",
       "  </thead>\n",
       "  <tbody>\n",
       "    <tr>\n",
       "      <th>count</th>\n",
       "      <td>25.000000</td>\n",
       "      <td>25.000000</td>\n",
       "    </tr>\n",
       "    <tr>\n",
       "      <th>mean</th>\n",
       "      <td>5.080000</td>\n",
       "      <td>7.800000</td>\n",
       "    </tr>\n",
       "    <tr>\n",
       "      <th>std</th>\n",
       "      <td>2.059935</td>\n",
       "      <td>2.645751</td>\n",
       "    </tr>\n",
       "    <tr>\n",
       "      <th>min</th>\n",
       "      <td>2.000000</td>\n",
       "      <td>3.000000</td>\n",
       "    </tr>\n",
       "    <tr>\n",
       "      <th>25%</th>\n",
       "      <td>4.000000</td>\n",
       "      <td>6.000000</td>\n",
       "    </tr>\n",
       "    <tr>\n",
       "      <th>50%</th>\n",
       "      <td>5.000000</td>\n",
       "      <td>8.000000</td>\n",
       "    </tr>\n",
       "    <tr>\n",
       "      <th>75%</th>\n",
       "      <td>7.000000</td>\n",
       "      <td>10.000000</td>\n",
       "    </tr>\n",
       "    <tr>\n",
       "      <th>max</th>\n",
       "      <td>10.000000</td>\n",
       "      <td>13.000000</td>\n",
       "    </tr>\n",
       "  </tbody>\n",
       "</table>\n",
       "</div>"
      ],
      "text/plain": [
       "               A          B\n",
       "count  25.000000  25.000000\n",
       "mean    5.080000   7.800000\n",
       "std     2.059935   2.645751\n",
       "min     2.000000   3.000000\n",
       "25%     4.000000   6.000000\n",
       "50%     5.000000   8.000000\n",
       "75%     7.000000  10.000000\n",
       "max    10.000000  13.000000"
      ]
     },
     "execution_count": 21,
     "metadata": {},
     "output_type": "execute_result"
    }
   ],
   "source": [
    "data.describe()"
   ]
  },
  {
   "cell_type": "code",
   "execution_count": 22,
   "metadata": {
    "collapsed": true
   },
   "outputs": [],
   "source": [
    "'''\n",
    "第一组数据：A键盘的平均出错数和方差\n",
    "'''\n",
    "#第一组数据均值\n",
    "A_mean = data['A'].mean()\n",
    "# 第一组数据标准差\n",
    "A_std = data['A'].std()\n",
    "\n",
    "'''\n",
    "第二组数据：B键盘的平均出错数和方差\n",
    "'''\n",
    "# 第二组数据均值\n",
    "B_mean = data['B'].mean()\n",
    "# 第二组数据标准差\n",
    "B_std = data['B'].std()"
   ]
  },
  {
   "cell_type": "markdown",
   "metadata": {},
   "source": [
    "使用柱状图对两个样本数据进行比较"
   ]
  },
  {
   "cell_type": "code",
   "execution_count": 23,
   "metadata": {},
   "outputs": [
    {
     "data": {
      "image/png": "[encoded data removed]",
      "text/plain": [
       "<matplotlib.figure.Figure at 0x1bc6e9f17f0>"
      ]
     },
     "metadata": {},
     "output_type": "display_data"
    }
   ],
   "source": [
    "#两个样本数据集对比\n",
    "#画板\n",
    "fg = plt.figure(figsize = (20,10))\n",
    "#画纸\n",
    "ax = fg.add_subplot(1,1,1)\n",
    "#绘制柱状图\n",
    "data.plot(kind = 'bar',ax = ax)\n",
    "#显示图形\n",
    "plt.show()"
   ]
  },
  {
   "cell_type": "code",
   "execution_count": 25,
   "metadata": {},
   "outputs": [
    {
     "name": "stdout",
     "output_type": "stream",
     "text": [
      "描述统计分析结果：\n",
      "第一组数据：A键盘，实验者的打字平均出错数是: 5.08 个,标准差是 2.05993527406405 个\n",
      "第二组数据：B键盘，实验者的打字平均出错数是: 7.8 个,标准差是 2.6457513110645903 个\n",
      "可见，A键盘的出错均值小于于B键盘\n"
     ]
    }
   ],
   "source": [
    "print('描述统计分析结果：')\n",
    "print('第一组数据：A键盘，实验者的打字平均出错数是:',A_mean,'个,标准差是',A_std,'个')\n",
    "print('第二组数据：B键盘，实验者的打字平均出错数是:',B_mean,'个,标准差是',B_std,'个')\n",
    "print('可见，A键盘的出错均值小于于B键盘')"
   ]
  },
  {
   "cell_type": "markdown",
   "metadata": {},
   "source": [
    "# 二、推论统计分析"
   ]
  },
  {
   "cell_type": "markdown",
   "metadata": {},
   "source": [
    "推论统计分析报告中包括：假设检验，置信区间，效应量"
   ]
  },
  {
   "cell_type": "markdown",
   "metadata": {},
   "source": [
    "## 1.问题是什么？"
   ]
  },
  {
   "cell_type": "markdown",
   "metadata": {},
   "source": [
    "### 零假设和备选假设"
   ]
  },
  {
   "cell_type": "markdown",
   "metadata": {},
   "source": [
    "本次统计主要是为了确定A，B两种键盘的出错率，因此作出以下假设\n",
    "\n",
    "零假设H0：A,B两种键盘打字出错率没有明显区别；\n",
    "\n",
    "备选假设H1：A,B两种键盘的打字出错率存在明显区别。"
   ]
  },
  {
   "cell_type": "markdown",
   "metadata": {},
   "source": [
    "### 检验类型"
   ]
  },
  {
   "cell_type": "markdown",
   "metadata": {},
   "source": [
    "检验类型有很多种，因为该使用两组数据是独立的样本，所以为双样本独立检验。  \n",
    "\n",
    "检验类型参考资料：http://support.minitab.com/zh-cn/minitab/17/topic-library/basic-statistics-and-graphs/hypothesis-tests/tests-of-means/types-of-t-tests/"
   ]
  },
  {
   "cell_type": "markdown",
   "metadata": {},
   "source": [
    "### 抽样分布类型"
   ]
  },
  {
   "cell_type": "markdown",
   "metadata": {},
   "source": [
    "我们还要判断抽样分布是哪种？因为抽样分布的类型，决定了后面计算p值的不同。\n",
    "\n",
    "在我们这个案例中，样本大小是25（小于30），属于小样本。那小样本的抽样分布是否满足t分布呢？因为t分布还要求数据集近似正态分布，所以下面图片我们看下差值数据集的分布长什么样。"
   ]
  },
  {
   "cell_type": "code",
   "execution_count": 28,
   "metadata": {},
   "outputs": [
    {
     "data": {
      "image/png": "[encoded data removed]",
      "text/plain": [
       "<matplotlib.figure.Figure at 0x1bc7700e208>"
      ]
     },
     "metadata": {},
     "output_type": "display_data"
    },
    {
     "data": {
      "image/png": "[encoded data removed]",
      "text/plain": [
       "<matplotlib.figure.Figure at 0x1bc7700e978>"
      ]
     },
     "metadata": {},
     "output_type": "display_data"
    }
   ],
   "source": [
    "'''\n",
    "直方图能够粗略估计数据密度，如果想给数据一个更精确的拟合曲线（专业术语叫：核密度估计kernel density estimate (KDE)），\n",
    "Seaborn 可以很方便的画出直方图和拟合曲线。\n",
    "查看数据集分布官网教程地址：https://seaborn.pydata.org/tutorial/distributions.html\n",
    "\n",
    "安装绘图包seaborn：\n",
    "conda install seaborn\n",
    "'''\n",
    "#导入绘图包\n",
    "import seaborn as sns\n",
    "#查看数据集分布\n",
    "sns.distplot(data['A'])\n",
    "plt.title('A键盘出错字数分布')\n",
    "\n",
    "plt.show()\n",
    "\n",
    "sns.distplot(data['B'])\n",
    "plt.title('B键盘出错字数分布')\n",
    "\n",
    "plt.show()"
   ]
  },
  {
   "cell_type": "markdown",
   "metadata": {},
   "source": [
    "通过观察上面差值数据集分布图，数据集近似正态分布，所以满足t分布的使用条件，我们可以使用双样本独立t检验。"
   ]
  },
  {
   "cell_type": "markdown",
   "metadata": {},
   "source": [
    "### 检验方向\n",
    "\n",
    "单尾检验（左尾，右尾），还是双尾检验？"
   ]
  },
  {
   "cell_type": "markdown",
   "metadata": {},
   "source": [
    "因为备选假设是：A,B两键盘打字出错数是否存在明显区别。\n",
    "\n",
    "所以我们使用单尾检验中的双尾检验，显著水平为5%，t检验的自由度df=n-1=25-1=24"
   ]
  },
  {
   "cell_type": "markdown",
   "metadata": {},
   "source": [
    "## 2.证据是什么？"
   ]
  },
  {
   "cell_type": "markdown",
   "metadata": {},
   "source": [
    "在零假设成立前提下，得到样本平均值的概率p是多少？"
   ]
  },
  {
   "cell_type": "code",
   "execution_count": 29,
   "metadata": {},
   "outputs": [
    {
     "name": "stdout",
     "output_type": "stream",
     "text": [
      "t值= -4.05593853686 双尾检验的p值= 0.000182560617201\n"
     ]
    }
   ],
   "source": [
    "'''\n",
    "用python统计包scipy自动计算\n",
    "用scipy计算出的是：双尾检验\n",
    "单（1samp）样本t检验（ttest_1samp）：https://docs.scipy.org/doc/scipy/reference/generated/scipy.stats.ttest_1samp.html\n",
    "相关（related）配对t检验（ttest_rel）：https://docs.scipy.org/doc/scipy/reference/generated/scipy.stats.ttest_rel.html\n",
    "双独立（independent）样本t检验（ttest_ind）：https://docs.scipy.org/doc/scipy/reference/generated/scipy.stats.ttest_ind.html\n",
    "'''\n",
    "#导入统计模块（stats）\n",
    "from scipy import stats\n",
    "\n",
    "'''\n",
    "ttest_rel：相关配对检验\n",
    "返回的第1个值t是假设检验计算出的（t值），\n",
    "第2个值p是双尾检验的p值\n",
    "'''\n",
    "t,p_twoTail = stats.ttest_ind(data['A'],data['B'])\n",
    "\n",
    "print('t值=',t,'双尾检验的p值=',p_twoTail) "
   ]
  },
  {
   "cell_type": "code",
   "execution_count": 30,
   "metadata": {},
   "outputs": [
    {
     "name": "stdout",
     "output_type": "stream",
     "text": [
      "t= -4.05593853686 p_two= 0.000182560617201 ,df= 45.2781333114\n"
     ]
    }
   ],
   "source": [
    "'''\n",
    "上述分析可见Scipy的双独立样本t检验不能返回自由度，对于后面计算置信区间不方便。所以我们使用另一个统计包（statsmodels）\n",
    "\n",
    "需要在conda中当前notebook文件所在的python环境下安装统计包（statsmodels），安装命令：\n",
    "conda install statsmodels\n",
    "\n",
    "双独立（independent）样本t检验（ttest_ind）\n",
    "statsmodels.stats.weightstats.ttest_ind\n",
    "官网使用文档http://www.statsmodels.org/dev/generated/statsmodels.stats.weightstats.ttest_ind.html\n",
    "'''\n",
    "import statsmodels.stats.weightstats as st\n",
    "\n",
    "'''\n",
    "ttest_ind：独立双样本t检验，\n",
    "usevar='unequal'两个总体方差不一样\n",
    "返回的第1个值t是假设检验计算出的（t值），\n",
    "第2个p_two是双尾检验的p值\n",
    "第3个df是独立双样本的自由度\n",
    "'''\n",
    "t,p_two,df=st.ttest_ind(data['A'],data['B'],\n",
    "                        usevar='unequal')\n",
    "\n",
    "#自由度一般只保留整数部分\n",
    "print('t=',t,'p_two=',p_twoTail,',df=',df)"
   ]
  },
  {
   "cell_type": "markdown",
   "metadata": {},
   "source": [
    "## 3.判断标准是什么？"
   ]
  },
  {
   "cell_type": "code",
   "execution_count": null,
   "metadata": {
    "collapsed": true
   },
   "outputs": [],
   "source": [
    "#显著水平使用alpha=5%\n",
    "alpha=0.05"
   ]
  },
  {
   "cell_type": "markdown",
   "metadata": {},
   "source": [
    "## 4.做出结论"
   ]
  },
  {
   "cell_type": "code",
   "execution_count": 31,
   "metadata": {},
   "outputs": [
    {
     "name": "stdout",
     "output_type": "stream",
     "text": [
      "拒绝零假设，有统计显著\n",
      "也就是接受备选假设：AB键盘打字出错数存在明显差异\n"
     ]
    }
   ],
   "source": [
    "'''\n",
    "本次分析的直接是双尾检验，因此p直接与alpha进行对比\n",
    "'''\n",
    "#显著水平\n",
    "a=0.05\n",
    "#决策\n",
    "if(p_twoTail< a):\n",
    "    print('拒绝零假设，有统计显著')\n",
    "    print('也就是接受备选假设：AB键盘打字出错数存在明显差异')\n",
    "else:\n",
    "    print('接受备选假设，没有统计显著，也就是AB键盘不存在明显差异')"
   ]
  },
  {
   "cell_type": "markdown",
   "metadata": {},
   "source": [
    "假设检验报告：\n",
    "\n",
    "双样本独立检验t(45)=-4.06,p=0.00018 (α=5%),双尾检验\n",
    "\n",
    "统计上存在显著差异，拒绝零假设，说明AB键盘存在明显差异。"
   ]
  },
  {
   "cell_type": "markdown",
   "metadata": {},
   "source": [
    "## 5. 置信区间"
   ]
  },
  {
   "cell_type": "code",
   "execution_count": 32,
   "metadata": {
    "collapsed": true
   },
   "outputs": [],
   "source": [
    "'''\n",
    "1）置信水平对应的t值（t_ci）\n",
    "查t表格可以得到，95%的置信水平对应的t值=2.0141\n",
    "2）计算上下限\n",
    "置信区间上限a=样本平均值 - t_ci ×标准误差\n",
    "置信区间下限b=样本平均值 - t_ci ×标准误差\n",
    "'''\n",
    "\n",
    "'''\n",
    "95%的置信水平，自由度是n-1对应的t值\n",
    "查找t表格获取，\n",
    "也可以通过这个工具获取：https://www.graphpad.com/quickcalcs/statratio1/（利用这个工具获取t值，需要注意输入的概率值是1-95%=0.05）\n",
    "注意：课程中这里对应的下面t_ci值有误，以下面的值为准\n",
    "'''\n",
    "t_ci=2.0141\n",
    "#差值数据集平均值\n",
    "sample_mean=A_mean-B_mean\n",
    "#使用双样本独立假设的标准差计算公式\n",
    "se=np.sqrt(np.square(A_std)/25+np.square(B_std)/25)\n",
    "#置信区间上限\n",
    "a=sample_mean - t_ci * se\n",
    "#置信区间下限\n",
    "b=sample_mean + t_ci * se\n",
    "\n",
    "\n",
    "#标准误差:https://docs.scipy.org/doc/scipy-0.14.0/reference/generated/scipy.stats.sem.html"
   ]
  },
  {
   "cell_type": "code",
   "execution_count": 33,
   "metadata": {},
   "outputs": [
    {
     "name": "stdout",
     "output_type": "stream",
     "text": [
      "两个平均值差值的置信区间，95置信水平 CI=[-4.070699,-1.369301]\n"
     ]
    }
   ],
   "source": [
    "print('两个平均值差值的置信区间，95置信水平 CI=[%f,%f]' % (a,b))"
   ]
  },
  {
   "cell_type": "markdown",
   "metadata": {},
   "source": [
    "可见，A键盘相对B键盘的出错数要小1-4个左右。"
   ]
  },
  {
   "cell_type": "markdown",
   "metadata": {
    "collapsed": true
   },
   "source": [
    "## 6.效应量"
   ]
  },
  {
   "cell_type": "code",
   "execution_count": 42,
   "metadata": {},
   "outputs": [
    {
     "name": "stdout",
     "output_type": "stream",
     "text": [
      "d= -1.1471926574\n"
     ]
    }
   ],
   "source": [
    "'''\n",
    "效应量：差异指标Cohen's d\n",
    "'''\n",
    "\n",
    "#差值数据集的合并标准差\n",
    "sample_std=np.sqrt((24*np.square(A_std)+24*np.square(B_std))/48)\n",
    "\n",
    "#计算效应量\n",
    "d1=(A_mean - B_mean) / sample_std\n",
    "\n",
    "print('d=',d1)"
   ]
  },
  {
   "cell_type": "markdown",
   "metadata": {},
   "source": [
    "# 三、数据分析报告总结"
   ]
  },
  {
   "cell_type": "markdown",
   "metadata": {
    "collapsed": true
   },
   "source": [
    "1、描述统计分析\n",
    "\n",
    "第一组数据：A键盘，实验者的打字平均出错数是: 5.08 个,标准差是 2.05993527406405 个\n",
    "\n",
    "第二组数据：B键盘，实验者的打字平均出错数是: 7.8 个,标准差是 2.6457513110645903 个\n",
    "\n",
    "可见，A键盘的打字出错数小于B键盘\n",
    "\n",
    "2、推论统计分析\n",
    "\n",
    "1）假设检验\n",
    "\n",
    "双样本独立检验t(45)=-4.06,p=0.00018 (α=5%),双尾检验\n",
    "\n",
    "统计上存在显著差异，拒绝零假设，从而验证AB键盘存在显著差异。\n",
    "\n",
    "\n",
    "2）置信区间\n",
    "\n",
    "两个平均值差值的置信区间，95%置信水平 CI=[-4.070699,-1.369301]\n",
    "\n",
    "3）效应量\n",
    "\n",
    "d= - 1.147"
   ]
  },
  {
   "cell_type": "code",
   "execution_count": null,
   "metadata": {
    "collapsed": true
   },
   "outputs": [],
   "source": []
  }
 ],
 "metadata": {
  "kernelspec": {
   "display_name": "Python [conda env:py3]",
   "language": "python",
   "name": "conda-env-py3-py"
  },
  "language_info": {
   "codemirror_mode": {
    "name": "ipython",
    "version": 3
   },
   "file_extension": ".py",
   "mimetype": "text/x-python",
   "name": "python",
   "nbconvert_exporter": "python",
   "pygments_lexer": "ipython3",
   "version": "3.6.3"
  }
 },
 "nbformat": 4,
 "nbformat_minor": 2
}
