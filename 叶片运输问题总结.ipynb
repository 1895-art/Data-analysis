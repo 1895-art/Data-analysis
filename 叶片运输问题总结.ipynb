{
 "cells": [
  {
   "cell_type": "markdown",
   "metadata": {},
   "source": [
    "## 利用pulp模块解决运输问题"
   ]
  },
  {
   "cell_type": "markdown",
   "metadata": {},
   "source": [
    "在之前负责的风电项目叶片发运过程中，间或涉及到运输问题。恰好最近接触了一点优化方面的知识，对叶片的发运问题做一个优化。"
   ]
  },
  {
   "cell_type": "markdown",
   "metadata": {},
   "source": [
    "当前项目为一个100MW的风电电站，场地位于B国境内。设计拟选用2MW的风机50台，因此需运输叶片50套（单车可1套3片）。  \n",
    "受到生产日期和船期限制，叶片分别发至B国的1,2两个码头，1码头20套，2码头30套，并由卡车运输项目地。  \n",
    "综合勘察后，选定施工地点5处，分别为1,2,3,4,5。各地需要的叶片套数分别为5,6,11,13,15。  \n",
    "考虑到运输距离及路况，1码头向1-5施工地运输单套叶片的费用（美元）分别为：100,200,220,150,130；  \n",
    "2码头向1-5施工地运输单套叶片的费用分别为：80,210,180,120,160；\n",
    "\n",
    "综合以上信息，提供一个优化的运输方案。"
   ]
  },
  {
   "cell_type": "markdown",
   "metadata": {},
   "source": [
    "### 1.构建数据集"
   ]
  },
  {
   "cell_type": "code",
   "execution_count": 1,
   "metadata": {
    "collapsed": true
   },
   "outputs": [],
   "source": [
    "#导入线性规划包pulp\n",
    "from pulp import *"
   ]
  },
  {
   "cell_type": "code",
   "execution_count": 2,
   "metadata": {
    "collapsed": true
   },
   "outputs": [],
   "source": [
    "#创建一个关于码头的list\n",
    "\n",
    "ports=[1,2]\n",
    "\n",
    "#创建一个1,2两码头供应叶片的dict\n",
    "\n",
    "supply={1:20,2:30}\n",
    "\n",
    "#创建一个需求节点的dict\n",
    "\n",
    "sites={'1':5,'2':6,'3':11,'4':13,'5':15}"
   ]
  },
  {
   "cell_type": "code",
   "execution_count": 3,
   "metadata": {
    "collapsed": true
   },
   "outputs": [],
   "source": [
    "#创建一个1,2两码头向各场地运输叶片运费的dict\n",
    "\n",
    "costs = {\n",
    "        1:{'1':100,'2':200,'3':220,'4':150,'5':130},\n",
    "        2:{'1':80,'2':210,'3':180,'4':120,'5':160}\n",
    "        }"
   ]
  },
  {
   "cell_type": "markdown",
   "metadata": {},
   "source": [
    "### 2.分析问题与构建模型"
   ]
  },
  {
   "cell_type": "markdown",
   "metadata": {},
   "source": [
    "#### 2.1明确问题"
   ]
  },
  {
   "cell_type": "code",
   "execution_count": 4,
   "metadata": {
    "collapsed": true
   },
   "outputs": [],
   "source": [
    "'''\n",
    "构建问题\n",
    "显然本问题旨在优化运输路径，使得运费最小，因此是一个最小化的问题\n",
    "'''\n",
    "\n",
    "prob=LpProblem('Blades transportation',LpMinimize)"
   ]
  },
  {
   "cell_type": "code",
   "execution_count": 5,
   "metadata": {},
   "outputs": [
    {
     "data": {
      "text/plain": [
       "[(1, '1'),\n",
       " (1, '2'),\n",
       " (1, '3'),\n",
       " (1, '4'),\n",
       " (1, '5'),\n",
       " (2, '1'),\n",
       " (2, '2'),\n",
       " (2, '3'),\n",
       " (2, '4'),\n",
       " (2, '5')]"
      ]
     },
     "execution_count": 5,
     "metadata": {},
     "output_type": "execute_result"
    }
   ],
   "source": [
    "'''\n",
    "构建所有的运输路径\n",
    "'''\n",
    "\n",
    "routes=[(i,j) for i in ports for j in sites]\n",
    "routes"
   ]
  },
  {
   "cell_type": "code",
   "execution_count": 6,
   "metadata": {
    "scrolled": true
   },
   "outputs": [
    {
     "data": {
      "text/plain": [
       "{1: {'1': Route_1_1,\n",
       "  '2': Route_1_2,\n",
       "  '3': Route_1_3,\n",
       "  '4': Route_1_4,\n",
       "  '5': Route_1_5},\n",
       " 2: {'1': Route_2_1,\n",
       "  '2': Route_2_2,\n",
       "  '3': Route_2_3,\n",
       "  '4': Route_2_4,\n",
       "  '5': Route_2_5}}"
      ]
     },
     "execution_count": 6,
     "metadata": {},
     "output_type": "execute_result"
    }
   ],
   "source": [
    "'''\n",
    "构建关于路径的变量\n",
    "由于运输的叶片都是整套，因此这里是个整数问题\n",
    "'''\n",
    "route_vars=LpVariable.dicts('Route',(ports,sites),0,None,LpInteger)\n",
    "route_vars"
   ]
  },
  {
   "cell_type": "markdown",
   "metadata": {},
   "source": [
    "#### 2.2添加目标函数与约束"
   ]
  },
  {
   "cell_type": "code",
   "execution_count": 7,
   "metadata": {
    "collapsed": true,
    "scrolled": true
   },
   "outputs": [],
   "source": [
    "'''\n",
    "构建目标函数—总运输成本\n",
    "'''\n",
    "\n",
    "prob += lpSum([route_vars[i][j]*costs[i][j] for (i,j) in routes])"
   ]
  },
  {
   "cell_type": "code",
   "execution_count": 8,
   "metadata": {},
   "outputs": [],
   "source": [
    "'''\n",
    "增加约束条件\n",
    "'''\n",
    "\n",
    "#对码头而言，向5个场地供应的叶片数不应大于其叶片数量\n",
    "for i in ports:\n",
    "    prob += (lpSum([route_vars[i][j] for j in sites]) <= supply[i])\n",
    "\n",
    "#对施工场地而言，每个场地的供应数应等于其需求数\n",
    "for j in sites:\n",
    "    prob +=(lpSum([route_vars[i][j] for i in ports])==sites[j])    "
   ]
  },
  {
   "cell_type": "markdown",
   "metadata": {},
   "source": [
    "上限约束问题:  \n",
    "显然，本次分析仅对各路径运输量之和进行了约束，即每次运送叶片数量>=0;  \n",
    "而有的时候，可能会对每条运输路径进行上下限的约束。  \n",
    "如此，则有如下形式：  \n",
    " Route_1_1 =LpVariable(\"Route_1_1\", 0, 1)"
   ]
  },
  {
   "cell_type": "markdown",
   "metadata": {},
   "source": [
    "系数不为1情况：  \n",
    "本次约束条件各变量系数均为1。  \n",
    "但一般问题中，我们必然会遇到大量约束，且系数不为1的情况，这种情况可以利用pulp包中的LpDot函数，将变量和系数矩阵相乘计算，如下：  \n",
    "prob += (pulp.lpDot(route_vars, const_mat)=< upbound)"
   ]
  },
  {
   "cell_type": "markdown",
   "metadata": {},
   "source": [
    "### 3.计算结果"
   ]
  },
  {
   "cell_type": "code",
   "execution_count": 9,
   "metadata": {
    "scrolled": true
   },
   "outputs": [
    {
     "data": {
      "text/plain": [
       "<bound method LpProblem.solve of Blades transportation:\n",
       "MINIMIZE\n",
       "100*Route_1_1 + 200*Route_1_2 + 220*Route_1_3 + 150*Route_1_4 + 130*Route_1_5 + 80*Route_2_1 + 210*Route_2_2 + 180*Route_2_3 + 120*Route_2_4 + 160*Route_2_5 + 0\n",
       "SUBJECT TO\n",
       "_C1: Route_1_1 + Route_1_2 + Route_1_3 + Route_1_4 + Route_1_5 <= 20\n",
       "\n",
       "_C2: Route_2_1 + Route_2_2 + Route_2_3 + Route_2_4 + Route_2_5 <= 30\n",
       "\n",
       "_C3: Route_1_1 + Route_2_1 = 5\n",
       "\n",
       "_C4: Route_1_2 + Route_2_2 = 6\n",
       "\n",
       "_C5: Route_1_3 + Route_2_3 = 11\n",
       "\n",
       "_C6: Route_1_4 + Route_2_4 = 13\n",
       "\n",
       "_C7: Route_1_5 + Route_2_5 = 15\n",
       "\n",
       "VARIABLES\n",
       "0 <= Route_1_1 Integer\n",
       "0 <= Route_1_2 Integer\n",
       "0 <= Route_1_3 Integer\n",
       "0 <= Route_1_4 Integer\n",
       "0 <= Route_1_5 Integer\n",
       "0 <= Route_2_1 Integer\n",
       "0 <= Route_2_2 Integer\n",
       "0 <= Route_2_3 Integer\n",
       "0 <= Route_2_4 Integer\n",
       "0 <= Route_2_5 Integer\n",
       ">"
      ]
     },
     "execution_count": 9,
     "metadata": {},
     "output_type": "execute_result"
    }
   ],
   "source": [
    "'''\n",
    "计算优化的分配结果\n",
    "solve命令可以查看当前问题的方程式；\n",
    "solve()可以进行求解\n",
    "'''\n",
    "prob.solve"
   ]
  },
  {
   "cell_type": "code",
   "execution_count": 10,
   "metadata": {
    "scrolled": true
   },
   "outputs": [
    {
     "name": "stdout",
     "output_type": "stream",
     "text": [
      "objective None\n"
     ]
    }
   ],
   "source": [
    "print('objective',pulp.value(prob.objective))"
   ]
  },
  {
   "cell_type": "code",
   "execution_count": 11,
   "metadata": {},
   "outputs": [
    {
     "name": "stdout",
     "output_type": "stream",
     "text": [
      "Route_1_1的值是None\n",
      "Route_1_2的值是None\n",
      "Route_1_3的值是None\n",
      "Route_1_4的值是None\n",
      "Route_1_5的值是None\n",
      "Route_2_1的值是None\n",
      "Route_2_2的值是None\n",
      "Route_2_3的值是None\n",
      "Route_2_4的值是None\n",
      "Route_2_5的值是None\n"
     ]
    }
   ],
   "source": [
    "for (i,j) in routes:\n",
    "    a=pulp.value(route_vars[i][j])\n",
    "    b=route_vars[i][j]\n",
    "    print('%s的值是%s'%(b,a))"
   ]
  },
  {
   "cell_type": "markdown",
   "metadata": {
    "collapsed": true
   },
   "source": [
    "参考链接：https://www.coin-or.org/PuLP/CaseStudies/a_transportation_problem.html"
   ]
  },
  {
   "cell_type": "code",
   "execution_count": null,
   "metadata": {
    "collapsed": true
   },
   "outputs": [],
   "source": []
  }
 ],
 "metadata": {
  "kernelspec": {
   "display_name": "Python [conda env:py3]",
   "language": "python",
   "name": "conda-env-py3-py"
  },
  "language_info": {
   "codemirror_mode": {
    "name": "ipython",
    "version": 3
   },
   "file_extension": ".py",
   "mimetype": "text/x-python",
   "name": "python",
   "nbconvert_exporter": "python",
   "pygments_lexer": "ipython3",
   "version": "3.6.3"
  }
 },
 "nbformat": 4,
 "nbformat_minor": 2
}
