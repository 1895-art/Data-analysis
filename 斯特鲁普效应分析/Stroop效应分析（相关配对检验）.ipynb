{
 "cells": [
  {
   "cell_type": "markdown",
   "metadata": {},
   "source": [
    "特鲁普效应是著名的心理学现象，展示了人们对事物的认知过程已是一个自动化的历程。当有一个新的刺激出现时，如果它的特征和原先的刺激相似或符合一致，便会加速人们的认知；反之，若新的刺激特征与原先的刺激不相同，则会干扰人们的认知，使人们的所需的反映数据变长。\n",
    "\n",
    "简单来说，斯特鲁普效应是当有与原有认知不同的情况出现时，人们的反应时间会较长。\n",
    "\n",
    "我们想要验证斯特鲁普效应。"
   ]
  },
  {
   "cell_type": "markdown",
   "metadata": {},
   "source": [
    "# 一、描述统计分析"
   ]
  },
  {
   "cell_type": "markdown",
   "metadata": {},
   "source": [
    "提供两组文字，一组文字与颜色相同，另一组文字与颜色不同。  \n",
    "令一组试验者25人分别读取两组数据。   \n",
    "显然，试验者是同一批人，这里分析的是其在两种不同情况下的结果，因此为相关配对检验。"
   ]
  },
  {
   "cell_type": "code",
   "execution_count": 2,
   "metadata": {
    "collapsed": true
   },
   "outputs": [],
   "source": [
    "#导入模块\n",
    "import pandas as pd\n",
    "import numpy as np\n",
    "import matplotlib.pyplot as plt"
   ]
  },
  {
   "cell_type": "code",
   "execution_count": 5,
   "metadata": {
    "collapsed": true
   },
   "outputs": [],
   "source": [
    "#注意路径和文件名称不要使用中文，否则会报错\n",
    "dataSer=pd.read_csv(r'E:\\Jupyter\\stroopdata.csv')"
   ]
  },
  {
   "cell_type": "code",
   "execution_count": 7,
   "metadata": {
    "scrolled": true
   },
   "outputs": [
    {
     "data": {
      "text/html": [
       "<div>\n",
       "<style scoped>\n",
       "    .dataframe tbody tr th:only-of-type {\n",
       "        vertical-align: middle;\n",
       "    }\n",
       "\n",
       "    .dataframe tbody tr th {\n",
       "        vertical-align: top;\n",
       "    }\n",
       "\n",
       "    .dataframe thead th {\n",
       "        text-align: right;\n",
       "    }\n",
       "</style>\n",
       "<table border=\"1\" class=\"dataframe\">\n",
       "  <thead>\n",
       "    <tr style=\"text-align: right;\">\n",
       "      <th></th>\n",
       "      <th>Congruent</th>\n",
       "      <th>Incongruent</th>\n",
       "    </tr>\n",
       "  </thead>\n",
       "  <tbody>\n",
       "    <tr>\n",
       "      <th>count</th>\n",
       "      <td>24.000000</td>\n",
       "      <td>24.000000</td>\n",
       "    </tr>\n",
       "    <tr>\n",
       "      <th>mean</th>\n",
       "      <td>13.926875</td>\n",
       "      <td>22.350750</td>\n",
       "    </tr>\n",
       "    <tr>\n",
       "      <th>std</th>\n",
       "      <td>3.540219</td>\n",
       "      <td>5.010218</td>\n",
       "    </tr>\n",
       "    <tr>\n",
       "      <th>min</th>\n",
       "      <td>8.630000</td>\n",
       "      <td>15.687000</td>\n",
       "    </tr>\n",
       "    <tr>\n",
       "      <th>25%</th>\n",
       "      <td>11.895250</td>\n",
       "      <td>18.716750</td>\n",
       "    </tr>\n",
       "    <tr>\n",
       "      <th>50%</th>\n",
       "      <td>13.627500</td>\n",
       "      <td>21.046000</td>\n",
       "    </tr>\n",
       "    <tr>\n",
       "      <th>75%</th>\n",
       "      <td>15.671250</td>\n",
       "      <td>24.536000</td>\n",
       "    </tr>\n",
       "    <tr>\n",
       "      <th>max</th>\n",
       "      <td>22.328000</td>\n",
       "      <td>35.255000</td>\n",
       "    </tr>\n",
       "  </tbody>\n",
       "</table>\n",
       "</div>"
      ],
      "text/plain": [
       "       Congruent  Incongruent\n",
       "count  24.000000    24.000000\n",
       "mean   13.926875    22.350750\n",
       "std     3.540219     5.010218\n",
       "min     8.630000    15.687000\n",
       "25%    11.895250    18.716750\n",
       "50%    13.627500    21.046000\n",
       "75%    15.671250    24.536000\n",
       "max    22.328000    35.255000"
      ]
     },
     "execution_count": 7,
     "metadata": {},
     "output_type": "execute_result"
    }
   ],
   "source": [
    "dataSer.describe()"
   ]
  },
  {
   "cell_type": "markdown",
   "metadata": {},
   "source": [
    "可以看到congruent（一致）数据的均值和方差均小于incongruent（不一致）数据的均值和方差"
   ]
  },
  {
   "cell_type": "code",
   "execution_count": 10,
   "metadata": {
    "collapsed": true
   },
   "outputs": [],
   "source": [
    "#计算一致样本平均值和标准差\n",
    "con_mean=dataSer['Congruent'].mean()\n",
    "con_std=dataSer['Congruent'].std()\n",
    "\n",
    "#计算不一致样本的均值和方差\n",
    "incon_mean=dataSer['Incongruent'].mean()\n",
    "incon_std=dataSer['Incongruent'].std()"
   ]
  },
  {
   "cell_type": "code",
   "execution_count": 25,
   "metadata": {},
   "outputs": [
    {
     "data": {
      "image/png": "[encoded data removed]",
      "text/plain": [
       "<matplotlib.figure.Figure at 0x2041247e978>"
      ]
     },
     "metadata": {},
     "output_type": "display_data"
    }
   ],
   "source": [
    "#设计画板\n",
    "fig=plt.figure(figsize=(20,10))\n",
    "#设计画纸\n",
    "ax = fig.add_subplot(1,1,1)\n",
    "#绘图\n",
    "dataSer.plot(kind='bar',ax=ax)\n",
    "plt.show()"
   ]
  },
  {
   "cell_type": "markdown",
   "metadata": {},
   "source": [
    "# 二、推论统计分析"
   ]
  },
  {
   "cell_type": "markdown",
   "metadata": {},
   "source": [
    "推论统计分析报告中包括：假设检验，置信区间，效应量"
   ]
  },
  {
   "cell_type": "markdown",
   "metadata": {},
   "source": [
    "## 1.问题是什么？"
   ]
  },
  {
   "cell_type": "markdown",
   "metadata": {},
   "source": [
    "### 零假设和备选假设"
   ]
  },
  {
   "cell_type": "markdown",
   "metadata": {},
   "source": [
    "根据上面的问题，我们做出两个截然相反的假设：  \n",
    "零假设H0：斯特鲁普效应不存在，即两组受试者之间无显著差异；   \n",
    "备选假设：斯特鲁普效应存在，即两组受试者间存在显著差异。    \n",
    "需要说明的是，零假设总是表述为研究没有改变，没有效果，不起作用等，即不满足标准"
   ]
  },
  {
   "cell_type": "markdown",
   "metadata": {},
   "source": [
    "### 抽样分布类型"
   ]
  },
  {
   "cell_type": "markdown",
   "metadata": {},
   "source": [
    "在本次案例中，样本大小是10（小于30），固属于小样本，不能采用正态分布。  \n",
    "宜根据其分布情况，如果数据分布近似正态分布，则可以采用t分布。"
   ]
  },
  {
   "cell_type": "markdown",
   "metadata": {},
   "source": [
    "下面，我们看下两组数据差值的分布类型"
   ]
  },
  {
   "cell_type": "code",
   "execution_count": 27,
   "metadata": {
    "collapsed": true
   },
   "outputs": [],
   "source": [
    "data=dataSer['Congruent']-dataSer['Incongruent']"
   ]
  },
  {
   "cell_type": "code",
   "execution_count": 29,
   "metadata": {},
   "outputs": [
    {
     "data": {
      "image/png": "[encoded data removed]",
      "text/plain": [
       "<matplotlib.figure.Figure at 0x204120ffda0>"
      ]
     },
     "metadata": {},
     "output_type": "display_data"
    }
   ],
   "source": [
    "import seaborn as sns\n",
    "\n",
    "sns.distplot(data)\n",
    "plt.title('数据集分布')\n",
    "plt.grid(True)\n",
    "plt.show()"
   ]
  },
  {
   "cell_type": "markdown",
   "metadata": {},
   "source": [
    "上图可见，数据集近似正态分布，满足t分布的使用条件，所以可以认为抽样分布是自由度df=23（23-1）的t分布"
   ]
  },
  {
   "cell_type": "markdown",
   "metadata": {},
   "source": [
    "### 检验方向"
   ]
  },
  {
   "cell_type": "markdown",
   "metadata": {},
   "source": [
    "本检验考虑的是是否样本1的数据普遍小于样本2，固应属于单尾检验中的左尾检验。"
   ]
  },
  {
   "cell_type": "markdown",
   "metadata": {},
   "source": [
    "## 2.证据是什么？"
   ]
  },
  {
   "cell_type": "markdown",
   "metadata": {},
   "source": [
    "在零假设成立的前提下，得到样本平均值的概率p是多少？\n",
    "计算p值的步骤如下：  \n",
    "1）计算出标准误差  \n",
    "标准误差=样本标准差除以样本大小n的开方。这里的样本标准差是用来估计总体标准差的  \n",
    "2）计算出t值  \n",
    "t=（样本平均值-总体平均值）/标准误差  \n",
    "3）根据t值，查找t表格，得到概率p值  "
   ]
  },
  {
   "cell_type": "code",
   "execution_count": 31,
   "metadata": {},
   "outputs": [
    {
     "name": "stdout",
     "output_type": "stream",
     "text": [
      "t值= -8.08861087281 双尾检验的p值= 3.54871914972e-08\n"
     ]
    }
   ],
   "source": [
    "'''\n",
    "用python统计包scipy自动计算\n",
    "用scipy计算出的是：双尾检验\n",
    "单（1samp）样本t检验（ttest_1samp）：https://docs.scipy.org/doc/scipy/reference/generated/scipy.stats.ttest_1samp.html\n",
    "相关（related）配对t检验（ttest_rel）：https://docs.scipy.org/doc/scipy/reference/generated/scipy.stats.ttest_rel.html\n",
    "双独立（independent）样本t检验（ttest_ind）：https://docs.scipy.org/doc/scipy/reference/generated/scipy.stats.ttest_ind.html\n",
    "'''\n",
    "from scipy import stats\n",
    "\n",
    "'''\n",
    "ttest_rel：\n",
    "返回的第1个值t是假设检验计算出的（t值），\n",
    "第2个值p是双尾检验的p值\n",
    "'''\n",
    "t,p_twoTail =stats.ttest_rel(dataSer['Congruent'],dataSer['Incongruent'])\n",
    "\n",
    "print('t值=',t,'双尾检验的p值=',p_twoTail) "
   ]
  },
  {
   "cell_type": "code",
   "execution_count": 32,
   "metadata": {},
   "outputs": [
    {
     "name": "stdout",
     "output_type": "stream",
     "text": [
      "单尾检验的p值= 1.77435957486e-08\n"
     ]
    }
   ],
   "source": [
    "'''\n",
    "因为直接用scipy计算出的是双尾检验的t值和p值，但是这里是左尾检验。  \n",
    "根据对称性，双尾的p值是单尾的2倍\n",
    "'''\n",
    "p_oneTail=p_twoTail/2\n",
    "\n",
    "print('单尾检验的p值=',p_oneTail)"
   ]
  },
  {
   "cell_type": "markdown",
   "metadata": {},
   "source": [
    "### 3.判断标准是什么？"
   ]
  },
  {
   "cell_type": "code",
   "execution_count": 33,
   "metadata": {
    "collapsed": true
   },
   "outputs": [],
   "source": [
    "#判断标准（显著水平）使用alpha=5%\n",
    "alpha=0.05"
   ]
  },
  {
   "cell_type": "markdown",
   "metadata": {},
   "source": [
    "### 4.做出结论"
   ]
  },
  {
   "cell_type": "code",
   "execution_count": 34,
   "metadata": {},
   "outputs": [
    {
     "name": "stdout",
     "output_type": "stream",
     "text": [
      "拒绝零假设，有统计显著，存在斯特鲁普效应\n"
     ]
    }
   ],
   "source": [
    "'''\n",
    "左尾判断条件：t < 0 and  p < 判断标准（显著水平）alpha\n",
    "右尾判断条件：t > 0 and  p < 判断标准（显著水平）alpha\n",
    "'''\n",
    "#做出结论\n",
    "if(t<0 and p_oneTail< alpha): \n",
    "    #左尾判断条件\n",
    "    print('拒绝零假设，有统计显著，存在斯特鲁普效应')\n",
    "else: \n",
    "    print('接受零假设，没有统计显著，不存在斯特鲁普效应')"
   ]
  },
  {
   "cell_type": "markdown",
   "metadata": {},
   "source": [
    "由此，基于APA（美国心理学会）的推论统计结果，  \n",
    "t(23)=-8,p=1.77435957486e-08（alpha=5%）,单尾检验中的左尾检验。"
   ]
  },
  {
   "cell_type": "markdown",
   "metadata": {},
   "source": [
    "## 5.置信区间"
   ]
  },
  {
   "cell_type": "code",
   "execution_count": 37,
   "metadata": {
    "collapsed": true
   },
   "outputs": [],
   "source": [
    "'''\n",
    "1）置信水平对应的t值（t_ci）\n",
    "查t表格可以得到，95%的置信水平，自由度是n-1对应的t值\n",
    "2）计算上下限\n",
    "置信区间上限a=样本平均值 - t_ci ×标准误差\n",
    "置信区间下限b=样本平均值 - t_ci ×标准误差\n",
    "'''\n",
    "\n",
    "'''\n",
    "查找t表格获取\n",
    "95%的置信水平，自由度是n-1对应的t值，\n",
    "注意：课程中这里对应的下面t_ci值有误，以下面的值为准\n",
    "标准误差:https://docs.scipy.org/doc/scipy-0.14.0/reference/generated/scipy.stats.sem.html\n",
    "'''\n",
    "t_ci=2.064\n",
    "#使用scipy计算标准误差\n",
    "se=stats.sem(data)\n",
    "a=data.mean()-t_ci*se\n",
    "b=data.mean()+t_ci*se"
   ]
  },
  {
   "cell_type": "code",
   "execution_count": 38,
   "metadata": {
    "scrolled": true
   },
   "outputs": [
    {
     "name": "stdout",
     "output_type": "stream",
     "text": [
      "单个平均值的置信区间，95置信水平 CI=(-10.573426,-6.274324)\n"
     ]
    }
   ],
   "source": [
    "print('单个平均值的置信区间，95置信水平 CI=(%f,%f)' % (a,b))"
   ]
  },
  {
   "cell_type": "markdown",
   "metadata": {},
   "source": [
    "### 6、效应量"
   ]
  },
  {
   "cell_type": "markdown",
   "metadata": {},
   "source": [
    "还需要在报告中给出效应量（effect size）。什么是效应量呢？\n",
    "\n",
    "效应量是指处理效应的大小，例如药物A比药物B效果显著。度量效应量有很多种，但大多数都属于两大主要类别。\n",
    "\n",
    "1）第一种叫做差异度量\n",
    "\n",
    "例如在对比平均值时，衡量效应大小的常见标准之一是Cohen's d\n",
    "\n",
    "Cohen's d = （样本平均值1-样本平均值2) / 标准差  \n",
    "\n",
    "Cohen's d 除以的是标准差，也就是以标准差为单位，样本平均值和总体平均值之间相差多少。\n",
    "\n",
    "2）第二种叫做相关度度量\n",
    "\n",
    "例如R平方，表示某个变量的变化比例与另一变量的关系。可以用t检验的信息推出R平方的公式，这里的t值从t检验中获得的值，df是自由度。\n",
    "\n",
    "r2=t2 / (t2+df),其中r2是指r的平方，t2是t的平方\n",
    "\n",
    "如果r平方等于20%，表示我们可以说通过知道另一个变量能够接受相关变量20%的变化情况"
   ]
  },
  {
   "cell_type": "code",
   "execution_count": 39,
   "metadata": {},
   "outputs": [
    {
     "name": "stdout",
     "output_type": "stream",
     "text": [
      "R2= 0.739894405287\n"
     ]
    }
   ],
   "source": [
    "'''\n",
    "效应量：差异指标Cohen's d\n",
    "'''\n",
    "#这里总体的平均值（pop_mean）无法确定，因此第一种效应指标无法应用\n",
    "#d=(sample_mean - pop_mean) / sample_std\n",
    "'''\n",
    "效应量：相关度指标R2\n",
    "'''\n",
    "#样本大小\n",
    "n=24\n",
    "#自由度\n",
    "df=n-1\n",
    "R2=(t*t)/(t*t+df)\n",
    "\n",
    "print('R2=',R2)"
   ]
  },
  {
   "cell_type": "markdown",
   "metadata": {},
   "source": [
    "根据R2>0.25,效果显著"
   ]
  },
  {
   "cell_type": "markdown",
   "metadata": {},
   "source": [
    "# 三、数据统计报告"
   ]
  },
  {
   "cell_type": "markdown",
   "metadata": {},
   "source": [
    "1、描述统计分析\n",
    "\n",
    "第一组样本数据：字体内容和字体颜色一致情况下，平均反应时间是: 13.92 秒,标准差是 3.54 秒\n",
    "\n",
    "第二组样本数据：字体内容和字体颜色不一致情况下，平均反应时间是: 22.35 秒,标准差是 5.01 秒\n",
    "\n",
    "“不一致”情况下所用时间均大于“一致”情况，也就是当字体内容和字体验证不一致时，实验者的平均反应时间变长\n",
    "\n",
    "2、推论统计分析\n",
    "\n",
    "1）假设检验\n",
    "\n",
    "相关配对检验t(23)=-8,p=1.77435957486e-08（alpha=5%）,单尾检验中的左尾检验。\n",
    "\n",
    "统计上存在显著差异，拒绝零假设，从而验证斯特鲁普效应存在。\n",
    "\n",
    "\n",
    "2）置信区间\n",
    "\n",
    "两个平均值差值的置信区间，95%置信水平 CI=[-10.573426,-6.274324]\n",
    "\n",
    "3）效应量\n",
    "\n",
    "R2= 0.739894405287"
   ]
  },
  {
   "cell_type": "code",
   "execution_count": null,
   "metadata": {
    "collapsed": true
   },
   "outputs": [],
   "source": []
  }
 ],
 "metadata": {
  "kernelspec": {
   "display_name": "Python [conda env:py3]",
   "language": "python",
   "name": "conda-env-py3-py"
  },
  "language_info": {
   "codemirror_mode": {
    "name": "ipython",
    "version": 3
   },
   "file_extension": ".py",
   "mimetype": "text/x-python",
   "name": "python",
   "nbconvert_exporter": "python",
   "pygments_lexer": "ipython3",
   "version": "3.6.3"
  }
 },
 "nbformat": 4,
 "nbformat_minor": 2
}
